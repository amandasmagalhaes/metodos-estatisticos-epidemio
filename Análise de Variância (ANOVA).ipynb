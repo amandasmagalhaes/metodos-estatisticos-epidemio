{
 "cells": [
  {
   "cell_type": "markdown",
   "metadata": {},
   "source": [
    "# ANOVA  \n",
    "## Comparação de Médias - Teste F - ANOVA"
   ]
  },
  {
   "cell_type": "markdown",
   "metadata": {},
   "source": [
    "### Volume Expiratório Forçado (FEV) (Pagano e Gauvreau, 2004, p.256)\n",
    "\n",
    "Deseja-se comparar o volume expiratório forçado de pacientes com doença coronária oriundos de três centros médicos diferentes:   \n",
    "\n",
    "• 21 pacientes da Johns Hopkins University School of Medicine  \n",
    "• 16 pacientes do Rancho Los Amigos Medical Center  \n",
    "• 23 pacientes da St. Louis University School of Medicine  \n",
    "  \n",
    "Ou seja, **deseja-se testar a *hipótese H0 : u1 = u2 = u3* contra a alternativa de que *pelo menos duas médias populacionais são diferentes***."
   ]
  },
  {
   "cell_type": "markdown",
   "metadata": {},
   "source": [
    "___"
   ]
  },
  {
   "cell_type": "markdown",
   "metadata": {},
   "source": [
    "## Leitura dos Dados"
   ]
  },
  {
   "cell_type": "code",
   "execution_count": 1,
   "metadata": {
    "scrolled": true
   },
   "outputs": [
    {
     "ename": "SyntaxError",
     "evalue": "invalid syntax (<ipython-input-1-98af09f8672f>, line 2)",
     "output_type": "error",
     "traceback": [
      "\u001b[1;36m  File \u001b[1;32m\"<ipython-input-1-98af09f8672f>\"\u001b[1;36m, line \u001b[1;32m2\u001b[0m\n\u001b[1;33m    pip install researchpy\u001b[0m\n\u001b[1;37m        ^\u001b[0m\n\u001b[1;31mSyntaxError\u001b[0m\u001b[1;31m:\u001b[0m invalid syntax\n"
     ]
    }
   ],
   "source": [
    "#Instalando biblioteca researchpy\n",
    "pip install researchpy"
   ]
  },
  {
   "cell_type": "code",
   "execution_count": 3,
   "metadata": {},
   "outputs": [],
   "source": [
    "#Biblioteca Researchpy (análises/informações univariadas e bivariadas)\n",
    "import researchpy as rp\n",
    "\n",
    "#Biblioteca Pandas (manipulação e análise de dados)\n",
    "import pandas as pd "
   ]
  },
  {
   "cell_type": "code",
   "execution_count": 4,
   "metadata": {},
   "outputs": [],
   "source": [
    "#Banco de dados\n",
    "df = pd.read_csv('http://www.est.ufmg.br/~enricoc/pdf/avancados_medicina/dados_aula2.txt', sep=' ') "
   ]
  },
  {
   "cell_type": "code",
   "execution_count": 5,
   "metadata": {
    "scrolled": true
   },
   "outputs": [
    {
     "data": {
      "text/html": [
       "<div>\n",
       "<style scoped>\n",
       "    .dataframe tbody tr th:only-of-type {\n",
       "        vertical-align: middle;\n",
       "    }\n",
       "\n",
       "    .dataframe tbody tr th {\n",
       "        vertical-align: top;\n",
       "    }\n",
       "\n",
       "    .dataframe thead th {\n",
       "        text-align: right;\n",
       "    }\n",
       "</style>\n",
       "<table border=\"1\" class=\"dataframe\">\n",
       "  <thead>\n",
       "    <tr style=\"text-align: right;\">\n",
       "      <th></th>\n",
       "      <th>volume</th>\n",
       "      <th>grupo</th>\n",
       "    </tr>\n",
       "  </thead>\n",
       "  <tbody>\n",
       "    <tr>\n",
       "      <th>0</th>\n",
       "      <td>3.23</td>\n",
       "      <td>1</td>\n",
       "    </tr>\n",
       "    <tr>\n",
       "      <th>1</th>\n",
       "      <td>3.47</td>\n",
       "      <td>1</td>\n",
       "    </tr>\n",
       "    <tr>\n",
       "      <th>2</th>\n",
       "      <td>1.86</td>\n",
       "      <td>1</td>\n",
       "    </tr>\n",
       "    <tr>\n",
       "      <th>3</th>\n",
       "      <td>2.47</td>\n",
       "      <td>1</td>\n",
       "    </tr>\n",
       "    <tr>\n",
       "      <th>4</th>\n",
       "      <td>3.01</td>\n",
       "      <td>1</td>\n",
       "    </tr>\n",
       "  </tbody>\n",
       "</table>\n",
       "</div>"
      ],
      "text/plain": [
       "   volume  grupo\n",
       "0    3.23      1\n",
       "1    3.47      1\n",
       "2    1.86      1\n",
       "3    2.47      1\n",
       "4    3.01      1"
      ]
     },
     "execution_count": 5,
     "metadata": {},
     "output_type": "execute_result"
    }
   ],
   "source": [
    "#Leitura das 5 primeiras linhas\n",
    "df.head() "
   ]
  },
  {
   "cell_type": "code",
   "execution_count": 6,
   "metadata": {},
   "outputs": [
    {
     "name": "stdout",
     "output_type": "stream",
     "text": [
      "<class 'pandas.core.frame.DataFrame'>\n",
      "RangeIndex: 60 entries, 0 to 59\n",
      "Data columns (total 2 columns):\n",
      " #   Column  Non-Null Count  Dtype  \n",
      "---  ------  --------------  -----  \n",
      " 0   volume  60 non-null     float64\n",
      " 1   grupo   60 non-null     int64  \n",
      "dtypes: float64(1), int64(1)\n",
      "memory usage: 1.1 KB\n"
     ]
    }
   ],
   "source": [
    "#Informações df\n",
    "df.info()"
   ]
  },
  {
   "cell_type": "code",
   "execution_count": 7,
   "metadata": {},
   "outputs": [
    {
     "data": {
      "text/plain": [
       "volume    0\n",
       "grupo     0\n",
       "dtype: int64"
      ]
     },
     "execution_count": 7,
     "metadata": {},
     "output_type": "execute_result"
    }
   ],
   "source": [
    "#Dados faltantes\n",
    "df.isnull().sum()"
   ]
  },
  {
   "cell_type": "code",
   "execution_count": 8,
   "metadata": {},
   "outputs": [],
   "source": [
    "#Recodificando variável grupo\n",
    "df['grupo'].replace({1: 'John Hopkins', 2: 'Rancho Los Amigos', 3: 'St Louis'}, inplace= True) "
   ]
  },
  {
   "cell_type": "code",
   "execution_count": 9,
   "metadata": {},
   "outputs": [
    {
     "data": {
      "text/html": [
       "<div>\n",
       "<style scoped>\n",
       "    .dataframe tbody tr th:only-of-type {\n",
       "        vertical-align: middle;\n",
       "    }\n",
       "\n",
       "    .dataframe tbody tr th {\n",
       "        vertical-align: top;\n",
       "    }\n",
       "\n",
       "    .dataframe thead th {\n",
       "        text-align: right;\n",
       "    }\n",
       "</style>\n",
       "<table border=\"1\" class=\"dataframe\">\n",
       "  <thead>\n",
       "    <tr style=\"text-align: right;\">\n",
       "      <th></th>\n",
       "      <th>volume</th>\n",
       "      <th>grupo</th>\n",
       "    </tr>\n",
       "  </thead>\n",
       "  <tbody>\n",
       "    <tr>\n",
       "      <th>0</th>\n",
       "      <td>3.23</td>\n",
       "      <td>John Hopkins</td>\n",
       "    </tr>\n",
       "    <tr>\n",
       "      <th>1</th>\n",
       "      <td>3.47</td>\n",
       "      <td>John Hopkins</td>\n",
       "    </tr>\n",
       "    <tr>\n",
       "      <th>2</th>\n",
       "      <td>1.86</td>\n",
       "      <td>John Hopkins</td>\n",
       "    </tr>\n",
       "    <tr>\n",
       "      <th>3</th>\n",
       "      <td>2.47</td>\n",
       "      <td>John Hopkins</td>\n",
       "    </tr>\n",
       "    <tr>\n",
       "      <th>4</th>\n",
       "      <td>3.01</td>\n",
       "      <td>John Hopkins</td>\n",
       "    </tr>\n",
       "  </tbody>\n",
       "</table>\n",
       "</div>"
      ],
      "text/plain": [
       "   volume         grupo\n",
       "0    3.23  John Hopkins\n",
       "1    3.47  John Hopkins\n",
       "2    1.86  John Hopkins\n",
       "3    2.47  John Hopkins\n",
       "4    3.01  John Hopkins"
      ]
     },
     "execution_count": 9,
     "metadata": {},
     "output_type": "execute_result"
    }
   ],
   "source": [
    "#Leitura das 5 primeiras linhas\n",
    "df.head() "
   ]
  },
  {
   "cell_type": "code",
   "execution_count": 10,
   "metadata": {},
   "outputs": [
    {
     "name": "stdout",
     "output_type": "stream",
     "text": [
      "<class 'pandas.core.frame.DataFrame'>\n",
      "RangeIndex: 60 entries, 0 to 59\n",
      "Data columns (total 2 columns):\n",
      " #   Column  Non-Null Count  Dtype  \n",
      "---  ------  --------------  -----  \n",
      " 0   volume  60 non-null     float64\n",
      " 1   grupo   60 non-null     object \n",
      "dtypes: float64(1), object(1)\n",
      "memory usage: 1.1+ KB\n"
     ]
    }
   ],
   "source": [
    "#Informações df\n",
    "df.info()"
   ]
  },
  {
   "cell_type": "markdown",
   "metadata": {},
   "source": [
    "## Análise Descritiva"
   ]
  },
  {
   "cell_type": "code",
   "execution_count": 11,
   "metadata": {},
   "outputs": [
    {
     "name": "stdout",
     "output_type": "stream",
     "text": [
      "\n",
      "\n"
     ]
    },
    {
     "data": {
      "text/html": [
       "<div>\n",
       "<style scoped>\n",
       "    .dataframe tbody tr th:only-of-type {\n",
       "        vertical-align: middle;\n",
       "    }\n",
       "\n",
       "    .dataframe tbody tr th {\n",
       "        vertical-align: top;\n",
       "    }\n",
       "\n",
       "    .dataframe thead th {\n",
       "        text-align: right;\n",
       "    }\n",
       "</style>\n",
       "<table border=\"1\" class=\"dataframe\">\n",
       "  <thead>\n",
       "    <tr style=\"text-align: right;\">\n",
       "      <th></th>\n",
       "      <th>Variable</th>\n",
       "      <th>N</th>\n",
       "      <th>Mean</th>\n",
       "      <th>SD</th>\n",
       "      <th>SE</th>\n",
       "      <th>95% Conf.</th>\n",
       "      <th>Interval</th>\n",
       "    </tr>\n",
       "  </thead>\n",
       "  <tbody>\n",
       "    <tr>\n",
       "      <th>0</th>\n",
       "      <td>volume</td>\n",
       "      <td>60.0</td>\n",
       "      <td>2.83</td>\n",
       "      <td>0.52</td>\n",
       "      <td>0.07</td>\n",
       "      <td>2.7</td>\n",
       "      <td>2.97</td>\n",
       "    </tr>\n",
       "  </tbody>\n",
       "</table>\n",
       "</div>"
      ],
      "text/plain": [
       "  Variable     N  Mean    SD    SE  95% Conf.  Interval\n",
       "0   volume  60.0  2.83  0.52  0.07        2.7      2.97"
      ]
     },
     "execution_count": 11,
     "metadata": {},
     "output_type": "execute_result"
    }
   ],
   "source": [
    "round(rp.summary_cont(df['volume']), 2)"
   ]
  },
  {
   "cell_type": "code",
   "execution_count": 12,
   "metadata": {},
   "outputs": [
    {
     "data": {
      "text/html": [
       "<div>\n",
       "<style scoped>\n",
       "    .dataframe tbody tr th:only-of-type {\n",
       "        vertical-align: middle;\n",
       "    }\n",
       "\n",
       "    .dataframe tbody tr th {\n",
       "        vertical-align: top;\n",
       "    }\n",
       "\n",
       "    .dataframe thead th {\n",
       "        text-align: right;\n",
       "    }\n",
       "</style>\n",
       "<table border=\"1\" class=\"dataframe\">\n",
       "  <thead>\n",
       "    <tr style=\"text-align: right;\">\n",
       "      <th></th>\n",
       "      <th>volume</th>\n",
       "    </tr>\n",
       "  </thead>\n",
       "  <tbody>\n",
       "    <tr>\n",
       "      <th>count</th>\n",
       "      <td>60.00</td>\n",
       "    </tr>\n",
       "    <tr>\n",
       "      <th>mean</th>\n",
       "      <td>2.83</td>\n",
       "    </tr>\n",
       "    <tr>\n",
       "      <th>std</th>\n",
       "      <td>0.52</td>\n",
       "    </tr>\n",
       "    <tr>\n",
       "      <th>min</th>\n",
       "      <td>1.69</td>\n",
       "    </tr>\n",
       "    <tr>\n",
       "      <th>25%</th>\n",
       "      <td>2.52</td>\n",
       "    </tr>\n",
       "    <tr>\n",
       "      <th>50%</th>\n",
       "      <td>2.83</td>\n",
       "    </tr>\n",
       "    <tr>\n",
       "      <th>75%</th>\n",
       "      <td>3.22</td>\n",
       "    </tr>\n",
       "    <tr>\n",
       "      <th>max</th>\n",
       "      <td>4.06</td>\n",
       "    </tr>\n",
       "  </tbody>\n",
       "</table>\n",
       "</div>"
      ],
      "text/plain": [
       "       volume\n",
       "count   60.00\n",
       "mean     2.83\n",
       "std      0.52\n",
       "min      1.69\n",
       "25%      2.52\n",
       "50%      2.83\n",
       "75%      3.22\n",
       "max      4.06"
      ]
     },
     "execution_count": 12,
     "metadata": {},
     "output_type": "execute_result"
    }
   ],
   "source": [
    "df.describe().round(2)"
   ]
  },
  {
   "cell_type": "code",
   "execution_count": 13,
   "metadata": {},
   "outputs": [
    {
     "name": "stdout",
     "output_type": "stream",
     "text": [
      "\n",
      "\n"
     ]
    },
    {
     "data": {
      "text/html": [
       "<div>\n",
       "<style scoped>\n",
       "    .dataframe tbody tr th:only-of-type {\n",
       "        vertical-align: middle;\n",
       "    }\n",
       "\n",
       "    .dataframe tbody tr th {\n",
       "        vertical-align: top;\n",
       "    }\n",
       "\n",
       "    .dataframe thead th {\n",
       "        text-align: right;\n",
       "    }\n",
       "</style>\n",
       "<table border=\"1\" class=\"dataframe\">\n",
       "  <thead>\n",
       "    <tr style=\"text-align: right;\">\n",
       "      <th></th>\n",
       "      <th>N</th>\n",
       "      <th>Mean</th>\n",
       "      <th>SD</th>\n",
       "      <th>SE</th>\n",
       "      <th>95% Conf.</th>\n",
       "      <th>Interval</th>\n",
       "    </tr>\n",
       "    <tr>\n",
       "      <th>grupo</th>\n",
       "      <th></th>\n",
       "      <th></th>\n",
       "      <th></th>\n",
       "      <th></th>\n",
       "      <th></th>\n",
       "      <th></th>\n",
       "    </tr>\n",
       "  </thead>\n",
       "  <tbody>\n",
       "    <tr>\n",
       "      <th>John Hopkins</th>\n",
       "      <td>21</td>\n",
       "      <td>2.63</td>\n",
       "      <td>0.50</td>\n",
       "      <td>0.11</td>\n",
       "      <td>2.40</td>\n",
       "      <td>2.85</td>\n",
       "    </tr>\n",
       "    <tr>\n",
       "      <th>Rancho Los Amigos</th>\n",
       "      <td>16</td>\n",
       "      <td>3.03</td>\n",
       "      <td>0.52</td>\n",
       "      <td>0.13</td>\n",
       "      <td>2.75</td>\n",
       "      <td>3.31</td>\n",
       "    </tr>\n",
       "    <tr>\n",
       "      <th>St Louis</th>\n",
       "      <td>23</td>\n",
       "      <td>2.88</td>\n",
       "      <td>0.50</td>\n",
       "      <td>0.10</td>\n",
       "      <td>2.66</td>\n",
       "      <td>3.09</td>\n",
       "    </tr>\n",
       "  </tbody>\n",
       "</table>\n",
       "</div>"
      ],
      "text/plain": [
       "                    N  Mean    SD    SE  95% Conf.  Interval\n",
       "grupo                                                       \n",
       "John Hopkins       21  2.63  0.50  0.11       2.40      2.85\n",
       "Rancho Los Amigos  16  3.03  0.52  0.13       2.75      3.31\n",
       "St Louis           23  2.88  0.50  0.10       2.66      3.09"
      ]
     },
     "execution_count": 13,
     "metadata": {},
     "output_type": "execute_result"
    }
   ],
   "source": [
    "round(rp.summary_cont(df['volume'].groupby(df['grupo'])), 2)"
   ]
  },
  {
   "cell_type": "markdown",
   "metadata": {},
   "source": [
    "## Análise de Variância"
   ]
  },
  {
   "cell_type": "code",
   "execution_count": 14,
   "metadata": {},
   "outputs": [],
   "source": [
    "#scipy.stats (Módulo de funções estatísticas)\n",
    "import scipy.stats as stats"
   ]
  },
  {
   "cell_type": "code",
   "execution_count": 15,
   "metadata": {},
   "outputs": [
    {
     "data": {
      "text/plain": [
       "F_onewayResult(statistic=3.11533584739652, pvalue=0.05199854842234129)"
      ]
     },
     "execution_count": 15,
     "metadata": {},
     "output_type": "execute_result"
    }
   ],
   "source": [
    "stats.f_oneway(df['volume'][df['grupo'] == 'John Hopkins'],\n",
    "               df['volume'][df['grupo'] == 'Rancho Los Amigos'],\n",
    "               df['volume'][df['grupo'] == 'St Louis'])"
   ]
  },
  {
   "cell_type": "code",
   "execution_count": 16,
   "metadata": {},
   "outputs": [
    {
     "data": {
      "text/html": [
       "<div>\n",
       "<style scoped>\n",
       "    .dataframe tbody tr th:only-of-type {\n",
       "        vertical-align: middle;\n",
       "    }\n",
       "\n",
       "    .dataframe tbody tr th {\n",
       "        vertical-align: top;\n",
       "    }\n",
       "\n",
       "    .dataframe thead th {\n",
       "        text-align: right;\n",
       "    }\n",
       "</style>\n",
       "<table border=\"1\" class=\"dataframe\">\n",
       "  <thead>\n",
       "    <tr style=\"text-align: right;\">\n",
       "      <th></th>\n",
       "      <th>sum_sq</th>\n",
       "      <th>df</th>\n",
       "      <th>F</th>\n",
       "      <th>PR(&gt;F)</th>\n",
       "    </tr>\n",
       "  </thead>\n",
       "  <tbody>\n",
       "    <tr>\n",
       "      <th>C(grupo)</th>\n",
       "      <td>1.582837</td>\n",
       "      <td>2.0</td>\n",
       "      <td>3.115336</td>\n",
       "      <td>0.051999</td>\n",
       "    </tr>\n",
       "    <tr>\n",
       "      <th>Residual</th>\n",
       "      <td>14.480256</td>\n",
       "      <td>57.0</td>\n",
       "      <td>NaN</td>\n",
       "      <td>NaN</td>\n",
       "    </tr>\n",
       "  </tbody>\n",
       "</table>\n",
       "</div>"
      ],
      "text/plain": [
       "             sum_sq    df         F    PR(>F)\n",
       "C(grupo)   1.582837   2.0  3.115336  0.051999\n",
       "Residual  14.480256  57.0       NaN       NaN"
      ]
     },
     "execution_count": 16,
     "metadata": {},
     "output_type": "execute_result"
    }
   ],
   "source": [
    "#statsmodels.api (Módulo que fornece classes e funções para a estimativa de modelos estatísticos)\n",
    "import statsmodels.api as sm\n",
    "from statsmodels.formula.api import ols\n",
    "\n",
    "#Tabela ANOVA\n",
    "model = ols('volume ~ C(grupo)', data=df).fit()\n",
    "aov_table = sm.stats.anova_lm(model, typ=2)\n",
    "aov_table\n",
    "\n",
    "#Nota: C (grupo) = entre as amostras e residuos = dentro das amostras"
   ]
  },
  {
   "cell_type": "code",
   "execution_count": 17,
   "metadata": {},
   "outputs": [
    {
     "data": {
      "text/html": [
       "<div>\n",
       "<style scoped>\n",
       "    .dataframe tbody tr th:only-of-type {\n",
       "        vertical-align: middle;\n",
       "    }\n",
       "\n",
       "    .dataframe tbody tr th {\n",
       "        vertical-align: top;\n",
       "    }\n",
       "\n",
       "    .dataframe thead th {\n",
       "        text-align: right;\n",
       "    }\n",
       "</style>\n",
       "<table border=\"1\" class=\"dataframe\">\n",
       "  <thead>\n",
       "    <tr style=\"text-align: right;\">\n",
       "      <th></th>\n",
       "      <th>sum_sq</th>\n",
       "      <th>df</th>\n",
       "      <th>mean_sq</th>\n",
       "      <th>F</th>\n",
       "      <th>PR(&gt;F)</th>\n",
       "      <th>eta_sq</th>\n",
       "      <th>omega_sq</th>\n",
       "    </tr>\n",
       "  </thead>\n",
       "  <tbody>\n",
       "    <tr>\n",
       "      <th>C(grupo)</th>\n",
       "      <td>1.582837</td>\n",
       "      <td>2.0</td>\n",
       "      <td>0.791419</td>\n",
       "      <td>3.115336</td>\n",
       "      <td>0.051999</td>\n",
       "      <td>0.098539</td>\n",
       "      <td>0.065867</td>\n",
       "    </tr>\n",
       "    <tr>\n",
       "      <th>Residual</th>\n",
       "      <td>14.480256</td>\n",
       "      <td>57.0</td>\n",
       "      <td>0.254040</td>\n",
       "      <td>NaN</td>\n",
       "      <td>NaN</td>\n",
       "      <td>NaN</td>\n",
       "      <td>NaN</td>\n",
       "    </tr>\n",
       "  </tbody>\n",
       "</table>\n",
       "</div>"
      ],
      "text/plain": [
       "             sum_sq    df   mean_sq         F    PR(>F)    eta_sq  omega_sq\n",
       "C(grupo)   1.582837   2.0  0.791419  3.115336  0.051999  0.098539  0.065867\n",
       "Residual  14.480256  57.0  0.254040       NaN       NaN       NaN       NaN"
      ]
     },
     "execution_count": 17,
     "metadata": {},
     "output_type": "execute_result"
    }
   ],
   "source": [
    "#A função abaixo foi criada para os resultados da tabela ANOVA unilateral retornados para a soma dos quadrados do Tipo II\n",
    "def anova_table(aov):\n",
    "    aov['mean_sq'] = aov[:]['sum_sq']/aov[:]['df']\n",
    "    aov['eta_sq'] = aov[:-1]['sum_sq']/sum(aov['sum_sq'])\n",
    "    aov['omega_sq'] = (aov[:-1]['sum_sq']-(aov[:-1]['df']*aov['mean_sq'][-1]))/(sum(aov['sum_sq'])+aov['mean_sq'][-1])\n",
    "    cols = ['sum_sq', 'df', 'mean_sq', 'F', 'PR(>F)', 'eta_sq', 'omega_sq']\n",
    "    aov = aov[cols]\n",
    "    return aov\n",
    "\n",
    "anova_table(aov_table)"
   ]
  },
  {
   "cell_type": "markdown",
   "metadata": {},
   "source": [
    "### Interpretação\n",
    "O objetivo deste estudo foi testar a diferença do volume expiratório forçado de pacientes com doença coronária entre os três centros médicos (Johns Hopkins University School of Medicine, Rancho Los Amigos Medical Center e St. Louis University School of Medicine).  \n",
    "O volume médio geral foi de 2,8 IC95% (2,7; 2,9) com médias de grupo de 2,6 IC95% (2,4; 2,9) para o grupo de John Hopkins; 3,0 IC95% (2,7; 3,3) para o grupo de Rancho Los Amigos; e 2,9 IC95% (2,7; 3,1) para o grupo de St Louis.  \n",
    "Há uma diferença estatisticamente significativa entre os grupos e seus volumes ao **nivel de 10% de significância**, F = 3,12, valor de p = 0,0512, efeito geral= 0,07.  \n",
    "Para saber quais grupos diferiram significativamente, testes post-hoc precisam ser realizados. Antes de realizar esse trabalho, as premissas devem ser verificadas primeiro, caso seja necessário fazer alguma modificação no modelo."
   ]
  },
  {
   "cell_type": "markdown",
   "metadata": {},
   "source": [
    "## Verificação de Suposição"
   ]
  },
  {
   "cell_type": "markdown",
   "metadata": {},
   "source": [
    "### INDEPENDÊNCIA\n",
    "Esta suposição é testada quando o estudo é desenhado. O que isso significa é que todos os grupos são mutuamente exclusivos, ou seja, um indivíduo só pode pertencer a um grupo. Além disso, isso significa que os dados não são medidas repetidas (não são coletados ao longo do tempo). Neste exemplo, essa condição foi atendida."
   ]
  },
  {
   "cell_type": "markdown",
   "metadata": {},
   "source": [
    "### NORMALIDADE\n",
    "A suposição de normalidade é testada nos resíduos do modelo ao vir de uma ANOVA ou estrutura de regressão. Um método para testar a suposição de normalidade é o teste de Shapiro-Wilk. Isso pode ser concluído usando o método shapiro() de scipy.stats. Infelizmente, a saída não é rotulada, mas é (estatística de teste W, valor p)."
   ]
  },
  {
   "cell_type": "code",
   "execution_count": 18,
   "metadata": {},
   "outputs": [
    {
     "data": {
      "text/plain": [
       "ShapiroResult(statistic=0.9928745031356812, pvalue=0.9795451164245605)"
      ]
     },
     "execution_count": 18,
     "metadata": {},
     "output_type": "execute_result"
    }
   ],
   "source": [
    "#Teste de Shapiro-Wilk\n",
    "import scipy.stats as stats\n",
    "stats.shapiro(model.resid)"
   ]
  },
  {
   "cell_type": "markdown",
   "metadata": {},
   "source": [
    "**O teste não é significativo, W = 0,99, p = 0,979, o que indica que os resíduos estão normalmente distribuídos.**"
   ]
  },
  {
   "cell_type": "markdown",
   "metadata": {},
   "source": [
    "Outra forma de testar a suposição é por meio de uma verificação visual - isso é útil quando a amostra é grande. A razão disso ser verdade é que, à medida que o tamanho da amostra aumenta, a capacidade do teste estatístico de rejeitar a hipótese nula aumenta, ou seja, ele ganha poder para detectar diferenças menores à medida que o tamanho da amostra n aumenta.\n",
    "\n",
    "Um método de verificar visualmente a distribuição é usar um gráfico de probabilidade com ou sem o valor de correlação, para avaliar a correlação dos valores observados com a distribuição teórica em questão - no caso atual seria a distribuição gaussiana (também conhecida como normal). Isso pode ser concluído usando o método probplot() de scipy.stats."
   ]
  },
  {
   "cell_type": "code",
   "execution_count": 19,
   "metadata": {},
   "outputs": [
    {
     "data": {
      "image/png": "[encoded data removed]",
      "text/plain": [
       "<Figure size 720x720 with 1 Axes>"
      ]
     },
     "metadata": {
      "needs_background": "light"
     },
     "output_type": "display_data"
    }
   ],
   "source": [
    "import matplotlib.pyplot as plt\n",
    "\n",
    "fig = plt.figure(figsize = (10, 10))\n",
    "ax = fig.add_subplot(111)\n",
    "\n",
    "normality_plot, stat = stats.probplot(model.resid, plot = plt, rvalue = True)\n",
    "ax.set_title(\"Probability plot of model residual's\", fontsize = 20)\n",
    "ax.set\n",
    "\n",
    "plt.show()"
   ]
  },
  {
   "cell_type": "markdown",
   "metadata": {},
   "source": [
    "### HOMOGENEIDADE DE VARIÂNCIA\n",
    "A suposição final é que todos os grupos têm variâncias iguais. Um método para testar essa suposição é o teste de Levene de homogeneidade de variâncias. Isso pode ser concluído usando o método levene() de scipy.stats."
   ]
  },
  {
   "cell_type": "code",
   "execution_count": 20,
   "metadata": {},
   "outputs": [
    {
     "data": {
      "text/plain": [
       "LeveneResult(statistic=0.04230923304574296, pvalue=0.9586033866653714)"
      ]
     },
     "execution_count": 20,
     "metadata": {},
     "output_type": "execute_result"
    }
   ],
   "source": [
    "#Teste de Levene\n",
    "import scipy.stats as stats\n",
    "stats.levene(df['volume'][df['grupo'] == 'John Hopkins'],\n",
    "             df['volume'][df['grupo'] == 'Rancho Los Amigos'],\n",
    "             df['volume'][df['grupo'] == 'St Louis'])"
   ]
  },
  {
   "cell_type": "markdown",
   "metadata": {},
   "source": [
    "**O teste de Levene de homogeneidade de variâncias não é significativo, o que indica que os grupos apresentam diferença não estatisticamente significativa em sua variância. Novamente, pode valer a pena verificar essa suposição visualmente também.**"
   ]
  },
  {
   "cell_type": "code",
   "execution_count": 21,
   "metadata": {},
   "outputs": [
    {
     "data": {
      "image/png": "[encoded data removed]",
      "text/plain": [
       "<Figure size 720x432 with 1 Axes>"
      ]
     },
     "metadata": {
      "needs_background": "light"
     },
     "output_type": "display_data"
    }
   ],
   "source": [
    "fig = plt.figure(figsize = (10, 6))\n",
    "ax = fig.add_subplot(111)\n",
    "\n",
    "ax.set_title(\"Box Plot of Volume by Groups\", fontsize = 20)\n",
    "ax.set\n",
    "\n",
    "data = (df['volume'][df['grupo'] == 'John Hopkins'],\n",
    "        df['volume'][df['grupo'] == 'Rancho Los Amigos'],\n",
    "        df['volume'][df['grupo'] == 'St Louis'])\n",
    "\n",
    "ax.boxplot(data,\n",
    "           labels= ['John Hopkins', 'Rancho Los Amigos', 'St Louis'],\n",
    "           showmeans = True)\n",
    "\n",
    "plt.xlabel(\"Centros médicos\")\n",
    "plt.ylabel(\"Volume\")\n",
    "\n",
    "plt.show()"
   ]
  },
  {
   "cell_type": "markdown",
   "metadata": {},
   "source": [
    "O teste gráfico de homogeneidade de variâncias apóia os resultados do teste estatístico em que os grupos têm variâncias iguais.   \n",
    "\n",
    "Por padrão, os gráficos de caixa mostram a mediana (linha laranja no gráfico acima). O triângulo verde é a média para cada grupo, que foi um argumento adicional que foi passado para o método.  \n",
    "\n",
    "Existem diferentes maneiras de lidar com a heteroscedasticidade (variância desigual) e uma decisão precisa ser tomada. Algumas opções incluem, mas não estão limitadas a, transformar a variável dependente (resultado), podem usar médias aparadas, erros padrão robustos ou usar um teste paramétrico, como o teste t de Welch.  "
   ]
  },
  {
   "cell_type": "markdown",
   "metadata": {},
   "source": [
    "## TESTE POST-HOC\n",
    "Ao conduzir testes post-hoc ou comparações planejadas, permite-se ver quais grupos diferem significativamente entre si; lembre-se de que a ANOVA é um teste abrangente!  \n",
    "Existem algumas abordagens diferentes que podem ser adotadas durante a realização desses testes, as que são implementadas em StatsModels atualmente são:  \n",
    "\n",
    "• Diferença Honestamente Significativa de Tukey (HSD)  \n",
    "• Bonferroni  \n",
    "• Šidák (também conhecido como Dunn-Šidák)"
   ]
  },
  {
   "cell_type": "markdown",
   "metadata": {},
   "source": [
    "### DIFERENÇA HONESTAMENTE SIGNIFICATIVA DE TUKEY (HSD)"
   ]
  },
  {
   "cell_type": "code",
   "execution_count": 22,
   "metadata": {},
   "outputs": [
    {
     "data": {
      "text/html": [
       "<table class=\"simpletable\">\n",
       "<caption>Multiple Comparison of Means - Tukey HSD, FWER=0.05</caption>\n",
       "<tr>\n",
       "       <th>group1</th>            <th>group2</th>       <th>meandiff</th>  <th>p-adj</th>  <th>lower</th>   <th>upper</th> <th>reject</th>\n",
       "</tr>\n",
       "<tr>\n",
       "    <td>John Hopkins</td>    <td>Rancho Los Amigos</td>  <td>0.4063</td>  <td>0.0474</td> <td>0.0038</td>  <td>0.8088</td>  <td>True</td> \n",
       "</tr>\n",
       "<tr>\n",
       "    <td>John Hopkins</td>        <td>St Louis</td>       <td>0.2525</td>  <td>0.2297</td> <td>-0.1136</td> <td>0.6186</td>  <td>False</td>\n",
       "</tr>\n",
       "<tr>\n",
       "  <td>Rancho Los Amigos</td>     <td>St Louis</td>       <td>-0.1538</td> <td>0.6104</td> <td>-0.5486</td>  <td>0.241</td>  <td>False</td>\n",
       "</tr>\n",
       "</table>"
      ],
      "text/plain": [
       "<class 'statsmodels.iolib.table.SimpleTable'>"
      ]
     },
     "execution_count": 22,
     "metadata": {},
     "output_type": "execute_result"
    }
   ],
   "source": [
    "#Teste de Tukey\n",
    "\n",
    "#statsmodels.stats.multicomp (calcula as comparações de pares com intervalos de confiança TukeyHSD)\n",
    "import statsmodels.stats.multicomp as mc\n",
    "\n",
    "comp = mc.MultiComparison(df['volume'], df['grupo'])\n",
    "post_hoc_res = comp.tukeyhsd()\n",
    "post_hoc_res.summary()"
   ]
  },
  {
   "cell_type": "markdown",
   "metadata": {},
   "source": [
    "No topo, as informações de teste da tabela são fornecidas.  \n",
    "\n",
    "**FWER** é a taxa de erro familiar, ou seja, o que está sendo definido e controlado nas  \n",
    "colunas **grupo1** e **grupo2** que são os grupos sendo comparados  \n",
    "**meandiff** é a diferença entre as médias do grupo  \n",
    "**p-adj** é o valor p corrigido que leva em consideração as múltiplas comparações sendo conduzidas  \n",
    "**lower** é a banda inferior do intervalo de confiança. No exemplo atual, o intervalo de confiança no nível de 90%, alfa = 0,10  \n",
    "**upper** é a banda superior do intervalo de confiança. No exemplo atual, o intervalo de confiança no nível de 90%, alfa = 0,10  \n",
    "**reject** é a regra de decisão com base no valor p corrigido  "
   ]
  },
  {
   "cell_type": "code",
   "execution_count": 26,
   "metadata": {},
   "outputs": [
    {
     "data": {
      "image/png": "[encoded data removed]",
      "text/plain": [
       "<Figure size 720x432 with 1 Axes>"
      ]
     },
     "metadata": {
      "needs_background": "light"
     },
     "output_type": "display_data"
    }
   ],
   "source": [
    "#É possível traçar a diferença usando este método também!\n",
    "x = post_hoc_res.plot_simultaneous(ylabel = \" \", xlabel = \"Score Difference\")"
   ]
  },
  {
   "cell_type": "markdown",
   "metadata": {},
   "source": [
    "Usar Tukey HSD para testar as diferenças entre os grupos indica que há uma diferença estatisticamente significativa no escore do volume entre John Hopkins e Rancho Los Amigos; nenhum outro grupo diferiu significativamente."
   ]
  },
  {
   "cell_type": "markdown",
   "metadata": {},
   "source": [
    "### CORREÇÃO DE BONFERRONI\n",
    "O método retorna 3 objetos, um é um objeto de tabela completo, o segundo são os dados da tabela e o terceiro são os dados da tabela com os títulos da tabela - não é entendido por que os desenvolvedores do StatsModels fizeram isso. Tudo o que é necessário é o primeiro objeto.  \n",
    "\n",
    "A documentação mostra que é necessário fornecer a este método um método de teste estatístico, que pode ser uma função definida pelo usuário ou uma função de outra biblioteca Python - neste caso, serão realizados testes t de amostra independentes. Também é necessário definir o método de correção a ser aplicado ao valor p para ajustar para as comparações múltiplas ocorrendo.  \n",
    "\n",
    "*allpairtest(statistical_test_method, method = \"correction_method\")*"
   ]
  },
  {
   "cell_type": "code",
   "execution_count": 24,
   "metadata": {},
   "outputs": [
    {
     "data": {
      "text/html": [
       "<table class=\"simpletable\">\n",
       "<caption>Test Multiple Comparison ttest_ind \n",
       "FWER=0.05 method=bonf\n",
       "alphacSidak=0.02, alphacBonf=0.017</caption>\n",
       "<tr>\n",
       "       <th>group1</th>            <th>group2</th>        <th>stat</th>    <th>pval</th>  <th>pval_corr</th> <th>reject</th>\n",
       "</tr>\n",
       "<tr>\n",
       "    <td>John Hopkins</td>    <td>Rancho Los Amigos</td> <td>-2.4105</td> <td>0.0213</td>   <td>0.064</td>    <td>False</td>\n",
       "</tr>\n",
       "<tr>\n",
       "    <td>John Hopkins</td>        <td>St Louis</td>      <td>-1.6834</td> <td>0.0997</td>  <td>0.2992</td>    <td>False</td>\n",
       "</tr>\n",
       "<tr>\n",
       "  <td>Rancho Los Amigos</td>     <td>St Louis</td>      <td>0.9296</td>  <td>0.3586</td>    <td>1.0</td>     <td>False</td>\n",
       "</tr>\n",
       "</table>"
      ],
      "text/plain": [
       "<class 'statsmodels.iolib.table.SimpleTable'>"
      ]
     },
     "execution_count": 24,
     "metadata": {},
     "output_type": "execute_result"
    }
   ],
   "source": [
    "import statsmodels.stats.multicomp as mc\n",
    "\n",
    "comp = mc.MultiComparison(df['volume'], df['grupo'])\n",
    "tbl, a1, a2 = comp.allpairtest(stats.ttest_ind, method= \"bonf\")\n",
    "\n",
    "tbl"
   ]
  },
  {
   "cell_type": "markdown",
   "metadata": {},
   "source": [
    "No topo, as informações de teste da tabela são fornecidas  \n",
    "\n",
    "**FWER** é a taxa de erro familiar, ou seja, o que está sendo definido e controlado em  \n",
    "**method** é o método de correção que está sendo aplicado aos valores p  \n",
    "\n",
    "Depois, há o valor p ajustado (ajustado ) para os métodos de correção Sidak e Bonferroni  \n",
    "as colunas **grupo1** e **grupo2** são os grupos sendo comparados  \n",
    "**stat** é o valor da estatística de teste; neste caso, seria a estatística t  \n",
    "**pval** é o valor p não corrigido retornado do **\"método_teste_estatístico\"** fornecido  \n",
    "**pval_corr** é o valor p corrigido que foi corrigido usando qualquer \"método de correção\" fornecido  \n",
    "**reject** é a regra de decisão com base no valor p corrigido  \n",
    "\n",
    "A realização de comparações usando a correção de Bonferroni indica que os únicos grupos que diferiram significativamente são aqueles de John Hopkins e Rancho Los Amigos."
   ]
  },
  {
   "cell_type": "markdown",
   "metadata": {},
   "source": [
    "### CORREÇÃO ŠIDÁK (TAMBÉM CONHECIDA COMO CORREÇÃO DUNN-ŠIDÁK)"
   ]
  },
  {
   "cell_type": "code",
   "execution_count": 25,
   "metadata": {},
   "outputs": [
    {
     "data": {
      "text/html": [
       "<table class=\"simpletable\">\n",
       "<caption>Test Multiple Comparison ttest_ind \n",
       "FWER=0.05 method=sidak\n",
       "alphacSidak=0.02, alphacBonf=0.017</caption>\n",
       "<tr>\n",
       "       <th>group1</th>            <th>group2</th>        <th>stat</th>    <th>pval</th>  <th>pval_corr</th> <th>reject</th>\n",
       "</tr>\n",
       "<tr>\n",
       "    <td>John Hopkins</td>    <td>Rancho Los Amigos</td> <td>-2.4105</td> <td>0.0213</td>  <td>0.0626</td>    <td>False</td>\n",
       "</tr>\n",
       "<tr>\n",
       "    <td>John Hopkins</td>        <td>St Louis</td>      <td>-1.6834</td> <td>0.0997</td>  <td>0.2703</td>    <td>False</td>\n",
       "</tr>\n",
       "<tr>\n",
       "  <td>Rancho Los Amigos</td>     <td>St Louis</td>      <td>0.9296</td>  <td>0.3586</td>  <td>0.7361</td>    <td>False</td>\n",
       "</tr>\n",
       "</table>"
      ],
      "text/plain": [
       "<class 'statsmodels.iolib.table.SimpleTable'>"
      ]
     },
     "execution_count": 25,
     "metadata": {},
     "output_type": "execute_result"
    }
   ],
   "source": [
    "import statsmodels.stats.multicomp as mc\n",
    "\n",
    "comp = mc.MultiComparison(df['volume'], df['grupo'])\n",
    "tbl, a1, a2 = comp.allpairtest(stats.ttest_ind, method= \"sidak\")\n",
    "\n",
    "tbl"
   ]
  },
  {
   "cell_type": "markdown",
   "metadata": {},
   "source": [
    "No topo, as informações de teste da tabela são fornecidas  \n",
    "\n",
    "**FWER** é a taxa de erro familiar, ou seja, o que está sendo definido e controlado em  \n",
    "**method** é o método de correção que está sendo aplicado aos valores p  \n",
    "\n",
    "Depois, há o valor p ajustado (ajustado ) para os métodos de correção Sidak e Bonferroni  \n",
    "as colunas **grupo1** e **grupo2** são os grupos sendo comparados  \n",
    "**stat** é o valor da estatística de teste; neste caso, seria a estatística t  \n",
    "**pval** é o valor p não corrigido retornado do **\"método_teste_estatístico\"** fornecido  \n",
    "**pval_corr** é o valor p corrigido que foi corrigido usando qualquer \"método de correção\" fornecido  \n",
    "**reject** é a regra de decisão com base no valor p corrigido  \n",
    "\n",
    "A realização de comparações usando a correção de Šidák indica que os únicos grupos que diferiram significativamente são aqueles de John Hopkins e Rancho Los Amigos."
   ]
  },
  {
   "cell_type": "markdown",
   "metadata": {},
   "source": [
    "___"
   ]
  },
  {
   "cell_type": "markdown",
   "metadata": {},
   "source": [
    "## REFERÊNCIAS  \n",
    "\n",
    "https://www.pythonfordatascience.org/anova-python/  \n",
    "Kutner, M. H., Nachtsheim, C. J., Neter, J., and Li, W. (2004). Applied linear statistical models (5th). New York, NY: McGraw-Hill Irwin.  \n",
    "Rosner, B. (2015). Fundamentals of Biostatistics (8th). Boston, MA: Cengage Learning.  \n",
    "Ott, R. L., and Longnecker, M. (2010). An introduction to statistical methods and data analysis. Belmon, CA: Brooks/Cole.  "
   ]
  }
 ],
 "metadata": {
  "kernelspec": {
   "display_name": "Python 3",
   "language": "python",
   "name": "python3"
  },
  "language_info": {
   "codemirror_mode": {
    "name": "ipython",
    "version": 3
   },
   "file_extension": ".py",
   "mimetype": "text/x-python",
   "name": "python",
   "nbconvert_exporter": "python",
   "pygments_lexer": "ipython3",
   "version": "3.8.5"
  }
 },
 "nbformat": 4,
 "nbformat_minor": 4
}

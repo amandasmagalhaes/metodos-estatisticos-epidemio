{
 "cells": [
  {
   "cell_type": "markdown",
   "metadata": {},
   "source": [
    "# ANOVA  \n",
    "## Comparação de Médias - Teste F - ANOVA"
   ]
  },
  {
   "cell_type": "markdown",
   "metadata": {},
   "source": [
    "### Comportamento da Hemoglobina Glicosilada em Gestantes\n",
    "\n",
    "1. Descrição do Estudo: A dosagem da hemoglobina glicosilada (HbA) é uma ferramenta importante para o acompanhamento de gestantes com diabetes. Sabe-se que o risco de defeitos congênitos aumenta quando a mae possui diabetes. Entretanto, acredita-se que com um acompanhamento adequado, a gestante aumenta o risco de ter um bebê saudável.  \n",
    "2. Um estudo transversal foi conduzido para comparar três grupos de gestantes com relação ao comportamento da hemoglobina glicosilada (HbA):  \n",
    "• Gestantes Normais (N);  \n",
    "• Gestantes com Tolerância Diminuida (TD);  \n",
    "• Gestantes Diabéticas (D).  \n",
    "Dez gestantes participaram em cada grupo.  \n",
    "3. O objetivo do estudo é investigar se a HbA consegue separar os três grupos de gestantes. Ou seja, os grupos foram definidos utilizando critérios clínicos bem específicos e deseja-se compará-los com relação à HbA."
   ]
  },
  {
   "cell_type": "markdown",
   "metadata": {},
   "source": [
    "___"
   ]
  },
  {
   "cell_type": "markdown",
   "metadata": {},
   "source": [
    "## Leitura dos Dados"
   ]
  },
  {
   "cell_type": "code",
   "execution_count": 1,
   "metadata": {},
   "outputs": [],
   "source": [
    "#Biblioteca Researchpy (análises/informações univariadas e bivariadas)\n",
    "#pip install researchpy\n",
    "import researchpy as rp\n",
    "\n",
    "#Biblioteca Pandas (manipulação e análise de dados)\n",
    "import pandas as pd \n",
    "\n",
    "#Biblioteca Matplotlib (criação de gráficos e visualizações de dados em geral)\n",
    "import matplotlib.pyplot as plt\n",
    "\n",
    "#Biblioteca Seaborn (interface de alto nível para construção de gráficos estatísticos atrativos e informativos)\n",
    "import seaborn as sns"
   ]
  },
  {
   "cell_type": "code",
   "execution_count": 2,
   "metadata": {},
   "outputs": [],
   "source": [
    "#Banco de dados\n",
    "df = pd.read_csv('http://www.est.ufmg.br/~enricoc/pdf/avancados_medicina/dadosexerc1.txt', delimiter='\\t') "
   ]
  },
  {
   "cell_type": "code",
   "execution_count": 3,
   "metadata": {
    "scrolled": true
   },
   "outputs": [
    {
     "data": {
      "text/html": [
       "<div>\n",
       "<style scoped>\n",
       "    .dataframe tbody tr th:only-of-type {\n",
       "        vertical-align: middle;\n",
       "    }\n",
       "\n",
       "    .dataframe tbody tr th {\n",
       "        vertical-align: top;\n",
       "    }\n",
       "\n",
       "    .dataframe thead th {\n",
       "        text-align: right;\n",
       "    }\n",
       "</style>\n",
       "<table border=\"1\" class=\"dataframe\">\n",
       "  <thead>\n",
       "    <tr style=\"text-align: right;\">\n",
       "      <th></th>\n",
       "      <th>Hba</th>\n",
       "      <th>Grupo</th>\n",
       "    </tr>\n",
       "  </thead>\n",
       "  <tbody>\n",
       "    <tr>\n",
       "      <th>0</th>\n",
       "      <td>7.86</td>\n",
       "      <td>1</td>\n",
       "    </tr>\n",
       "    <tr>\n",
       "      <th>1</th>\n",
       "      <td>6.38</td>\n",
       "      <td>1</td>\n",
       "    </tr>\n",
       "    <tr>\n",
       "      <th>2</th>\n",
       "      <td>6.90</td>\n",
       "      <td>1</td>\n",
       "    </tr>\n",
       "    <tr>\n",
       "      <th>3</th>\n",
       "      <td>7.78</td>\n",
       "      <td>1</td>\n",
       "    </tr>\n",
       "    <tr>\n",
       "      <th>4</th>\n",
       "      <td>8.17</td>\n",
       "      <td>1</td>\n",
       "    </tr>\n",
       "  </tbody>\n",
       "</table>\n",
       "</div>"
      ],
      "text/plain": [
       "    Hba  Grupo\n",
       "0  7.86      1\n",
       "1  6.38      1\n",
       "2  6.90      1\n",
       "3  7.78      1\n",
       "4  8.17      1"
      ]
     },
     "execution_count": 3,
     "metadata": {},
     "output_type": "execute_result"
    }
   ],
   "source": [
    "#Leitura das 5 primeiras linhas\n",
    "df.head() "
   ]
  },
  {
   "cell_type": "code",
   "execution_count": 4,
   "metadata": {},
   "outputs": [
    {
     "name": "stdout",
     "output_type": "stream",
     "text": [
      "<class 'pandas.core.frame.DataFrame'>\n",
      "RangeIndex: 30 entries, 0 to 29\n",
      "Data columns (total 2 columns):\n",
      " #   Column  Non-Null Count  Dtype  \n",
      "---  ------  --------------  -----  \n",
      " 0   Hba     30 non-null     float64\n",
      " 1   Grupo   30 non-null     int64  \n",
      "dtypes: float64(1), int64(1)\n",
      "memory usage: 608.0 bytes\n"
     ]
    }
   ],
   "source": [
    "#Informações df\n",
    "df.info()"
   ]
  },
  {
   "cell_type": "code",
   "execution_count": 5,
   "metadata": {},
   "outputs": [
    {
     "data": {
      "text/plain": [
       "Hba      0\n",
       "Grupo    0\n",
       "dtype: int64"
      ]
     },
     "execution_count": 5,
     "metadata": {},
     "output_type": "execute_result"
    }
   ],
   "source": [
    "#Dados faltantes\n",
    "df.isnull().sum()"
   ]
  },
  {
   "cell_type": "code",
   "execution_count": 6,
   "metadata": {},
   "outputs": [],
   "source": [
    "#Recodificando variável grupo\n",
    "df['Grupo'].replace({1: 'Gestantes Normais', 2: 'Gestantes com Tolerância Diminuida', \n",
    "                     3: 'Gestantes Diabéticas'}, inplace= True) "
   ]
  },
  {
   "cell_type": "code",
   "execution_count": 7,
   "metadata": {},
   "outputs": [
    {
     "data": {
      "text/html": [
       "<div>\n",
       "<style scoped>\n",
       "    .dataframe tbody tr th:only-of-type {\n",
       "        vertical-align: middle;\n",
       "    }\n",
       "\n",
       "    .dataframe tbody tr th {\n",
       "        vertical-align: top;\n",
       "    }\n",
       "\n",
       "    .dataframe thead th {\n",
       "        text-align: right;\n",
       "    }\n",
       "</style>\n",
       "<table border=\"1\" class=\"dataframe\">\n",
       "  <thead>\n",
       "    <tr style=\"text-align: right;\">\n",
       "      <th></th>\n",
       "      <th>Hba</th>\n",
       "      <th>Grupo</th>\n",
       "    </tr>\n",
       "  </thead>\n",
       "  <tbody>\n",
       "    <tr>\n",
       "      <th>0</th>\n",
       "      <td>7.86</td>\n",
       "      <td>Gestantes Normais</td>\n",
       "    </tr>\n",
       "    <tr>\n",
       "      <th>1</th>\n",
       "      <td>6.38</td>\n",
       "      <td>Gestantes Normais</td>\n",
       "    </tr>\n",
       "    <tr>\n",
       "      <th>2</th>\n",
       "      <td>6.90</td>\n",
       "      <td>Gestantes Normais</td>\n",
       "    </tr>\n",
       "    <tr>\n",
       "      <th>3</th>\n",
       "      <td>7.78</td>\n",
       "      <td>Gestantes Normais</td>\n",
       "    </tr>\n",
       "    <tr>\n",
       "      <th>4</th>\n",
       "      <td>8.17</td>\n",
       "      <td>Gestantes Normais</td>\n",
       "    </tr>\n",
       "  </tbody>\n",
       "</table>\n",
       "</div>"
      ],
      "text/plain": [
       "    Hba              Grupo\n",
       "0  7.86  Gestantes Normais\n",
       "1  6.38  Gestantes Normais\n",
       "2  6.90  Gestantes Normais\n",
       "3  7.78  Gestantes Normais\n",
       "4  8.17  Gestantes Normais"
      ]
     },
     "execution_count": 7,
     "metadata": {},
     "output_type": "execute_result"
    }
   ],
   "source": [
    "#Leitura das 5 primeiras linhas\n",
    "df.head() "
   ]
  },
  {
   "cell_type": "code",
   "execution_count": 8,
   "metadata": {},
   "outputs": [
    {
     "name": "stdout",
     "output_type": "stream",
     "text": [
      "<class 'pandas.core.frame.DataFrame'>\n",
      "RangeIndex: 30 entries, 0 to 29\n",
      "Data columns (total 2 columns):\n",
      " #   Column  Non-Null Count  Dtype  \n",
      "---  ------  --------------  -----  \n",
      " 0   Hba     30 non-null     float64\n",
      " 1   Grupo   30 non-null     object \n",
      "dtypes: float64(1), object(1)\n",
      "memory usage: 608.0+ bytes\n"
     ]
    }
   ],
   "source": [
    "#Informações df\n",
    "df.info()"
   ]
  },
  {
   "cell_type": "markdown",
   "metadata": {},
   "source": [
    "## Análise Descritiva"
   ]
  },
  {
   "cell_type": "code",
   "execution_count": 9,
   "metadata": {},
   "outputs": [
    {
     "name": "stdout",
     "output_type": "stream",
     "text": [
      "\n",
      "\n"
     ]
    },
    {
     "data": {
      "text/html": [
       "<div>\n",
       "<style scoped>\n",
       "    .dataframe tbody tr th:only-of-type {\n",
       "        vertical-align: middle;\n",
       "    }\n",
       "\n",
       "    .dataframe tbody tr th {\n",
       "        vertical-align: top;\n",
       "    }\n",
       "\n",
       "    .dataframe thead th {\n",
       "        text-align: right;\n",
       "    }\n",
       "</style>\n",
       "<table border=\"1\" class=\"dataframe\">\n",
       "  <thead>\n",
       "    <tr style=\"text-align: right;\">\n",
       "      <th></th>\n",
       "      <th>Variable</th>\n",
       "      <th>N</th>\n",
       "      <th>Mean</th>\n",
       "      <th>SD</th>\n",
       "      <th>SE</th>\n",
       "      <th>95% Conf.</th>\n",
       "      <th>Interval</th>\n",
       "    </tr>\n",
       "  </thead>\n",
       "  <tbody>\n",
       "    <tr>\n",
       "      <th>0</th>\n",
       "      <td>Hba</td>\n",
       "      <td>30.0</td>\n",
       "      <td>8.02</td>\n",
       "      <td>1.17</td>\n",
       "      <td>0.21</td>\n",
       "      <td>7.59</td>\n",
       "      <td>8.46</td>\n",
       "    </tr>\n",
       "  </tbody>\n",
       "</table>\n",
       "</div>"
      ],
      "text/plain": [
       "  Variable     N  Mean    SD    SE  95% Conf.  Interval\n",
       "0      Hba  30.0  8.02  1.17  0.21       7.59      8.46"
      ]
     },
     "execution_count": 9,
     "metadata": {},
     "output_type": "execute_result"
    }
   ],
   "source": [
    "round(rp.summary_cont(df['Hba']), 2)"
   ]
  },
  {
   "cell_type": "code",
   "execution_count": 10,
   "metadata": {},
   "outputs": [
    {
     "data": {
      "text/html": [
       "<div>\n",
       "<style scoped>\n",
       "    .dataframe tbody tr th:only-of-type {\n",
       "        vertical-align: middle;\n",
       "    }\n",
       "\n",
       "    .dataframe tbody tr th {\n",
       "        vertical-align: top;\n",
       "    }\n",
       "\n",
       "    .dataframe thead th {\n",
       "        text-align: right;\n",
       "    }\n",
       "</style>\n",
       "<table border=\"1\" class=\"dataframe\">\n",
       "  <thead>\n",
       "    <tr style=\"text-align: right;\">\n",
       "      <th></th>\n",
       "      <th>Hba</th>\n",
       "    </tr>\n",
       "  </thead>\n",
       "  <tbody>\n",
       "    <tr>\n",
       "      <th>count</th>\n",
       "      <td>30.00</td>\n",
       "    </tr>\n",
       "    <tr>\n",
       "      <th>mean</th>\n",
       "      <td>8.02</td>\n",
       "    </tr>\n",
       "    <tr>\n",
       "      <th>std</th>\n",
       "      <td>1.17</td>\n",
       "    </tr>\n",
       "    <tr>\n",
       "      <th>min</th>\n",
       "      <td>6.20</td>\n",
       "    </tr>\n",
       "    <tr>\n",
       "      <th>25%</th>\n",
       "      <td>7.42</td>\n",
       "    </tr>\n",
       "    <tr>\n",
       "      <th>50%</th>\n",
       "      <td>7.86</td>\n",
       "    </tr>\n",
       "    <tr>\n",
       "      <th>75%</th>\n",
       "      <td>8.64</td>\n",
       "    </tr>\n",
       "    <tr>\n",
       "      <th>max</th>\n",
       "      <td>10.43</td>\n",
       "    </tr>\n",
       "  </tbody>\n",
       "</table>\n",
       "</div>"
      ],
      "text/plain": [
       "         Hba\n",
       "count  30.00\n",
       "mean    8.02\n",
       "std     1.17\n",
       "min     6.20\n",
       "25%     7.42\n",
       "50%     7.86\n",
       "75%     8.64\n",
       "max    10.43"
      ]
     },
     "execution_count": 10,
     "metadata": {},
     "output_type": "execute_result"
    }
   ],
   "source": [
    "df.describe().round(2)"
   ]
  },
  {
   "cell_type": "code",
   "execution_count": 11,
   "metadata": {},
   "outputs": [
    {
     "name": "stdout",
     "output_type": "stream",
     "text": [
      "\n",
      "\n"
     ]
    },
    {
     "data": {
      "text/html": [
       "<div>\n",
       "<style scoped>\n",
       "    .dataframe tbody tr th:only-of-type {\n",
       "        vertical-align: middle;\n",
       "    }\n",
       "\n",
       "    .dataframe tbody tr th {\n",
       "        vertical-align: top;\n",
       "    }\n",
       "\n",
       "    .dataframe thead th {\n",
       "        text-align: right;\n",
       "    }\n",
       "</style>\n",
       "<table border=\"1\" class=\"dataframe\">\n",
       "  <thead>\n",
       "    <tr style=\"text-align: right;\">\n",
       "      <th></th>\n",
       "      <th>N</th>\n",
       "      <th>Mean</th>\n",
       "      <th>SD</th>\n",
       "      <th>SE</th>\n",
       "      <th>95% Conf.</th>\n",
       "      <th>Interval</th>\n",
       "    </tr>\n",
       "    <tr>\n",
       "      <th>Grupo</th>\n",
       "      <th></th>\n",
       "      <th></th>\n",
       "      <th></th>\n",
       "      <th></th>\n",
       "      <th></th>\n",
       "      <th></th>\n",
       "    </tr>\n",
       "  </thead>\n",
       "  <tbody>\n",
       "    <tr>\n",
       "      <th>Gestantes Diabéticas</th>\n",
       "      <td>10</td>\n",
       "      <td>9.27</td>\n",
       "      <td>0.76</td>\n",
       "      <td>0.24</td>\n",
       "      <td>8.73</td>\n",
       "      <td>9.82</td>\n",
       "    </tr>\n",
       "    <tr>\n",
       "      <th>Gestantes Normais</th>\n",
       "      <td>10</td>\n",
       "      <td>7.36</td>\n",
       "      <td>0.85</td>\n",
       "      <td>0.27</td>\n",
       "      <td>6.75</td>\n",
       "      <td>7.96</td>\n",
       "    </tr>\n",
       "    <tr>\n",
       "      <th>Gestantes com Tolerância Diminuida</th>\n",
       "      <td>10</td>\n",
       "      <td>7.45</td>\n",
       "      <td>0.72</td>\n",
       "      <td>0.23</td>\n",
       "      <td>6.93</td>\n",
       "      <td>7.96</td>\n",
       "    </tr>\n",
       "  </tbody>\n",
       "</table>\n",
       "</div>"
      ],
      "text/plain": [
       "                                     N  Mean    SD    SE  95% Conf.  Interval\n",
       "Grupo                                                                        \n",
       "Gestantes Diabéticas                10  9.27  0.76  0.24       8.73      9.82\n",
       "Gestantes Normais                   10  7.36  0.85  0.27       6.75      7.96\n",
       "Gestantes com Tolerância Diminuida  10  7.45  0.72  0.23       6.93      7.96"
      ]
     },
     "execution_count": 11,
     "metadata": {},
     "output_type": "execute_result"
    }
   ],
   "source": [
    "round(rp.summary_cont(df['Hba'].groupby(df['Grupo'])), 2)"
   ]
  },
  {
   "cell_type": "code",
   "execution_count": 12,
   "metadata": {},
   "outputs": [
    {
     "data": {
      "image/png": "[encoded data removed]",
      "text/plain": [
       "<Figure size 720x432 with 1 Axes>"
      ]
     },
     "metadata": {
      "needs_background": "light"
     },
     "output_type": "display_data"
    }
   ],
   "source": [
    "#Boxplot\n",
    "\n",
    "fig = plt.figure(figsize = (10, 6)) ##cria um objeto de figura\n",
    "ax = fig.add_subplot(111) #cria um objeto de eixos na figura\n",
    "\n",
    "ax.set_title(\" \", fontsize = 20)\n",
    "ax.set\n",
    "\n",
    "data = (df['Hba'][df['Grupo'] == 'Gestantes Normais'],\n",
    "        df['Hba'][df['Grupo'] == 'Gestantes com Tolerância Diminuida'],\n",
    "        df['Hba'][df['Grupo'] == 'Gestantes Diabéticas'])\n",
    "\n",
    "ax.boxplot(data,\n",
    "           labels= ['Gestantes Normais', 'Gestantes com Tolerância Diminuida', 'Gestantes Diabéticas'],\n",
    "           showmeans = True)\n",
    "\n",
    "plt.xlabel(\" \")\n",
    "plt.ylabel(\"Hba\")\n",
    "\n",
    "plt.show()"
   ]
  },
  {
   "cell_type": "markdown",
   "metadata": {},
   "source": [
    "## Análise de Variância"
   ]
  },
  {
   "cell_type": "code",
   "execution_count": 13,
   "metadata": {},
   "outputs": [
    {
     "data": {
      "text/plain": [
       "F_onewayResult(statistic=19.364025499068692, pvalue=6.078209006531465e-06)"
      ]
     },
     "execution_count": 13,
     "metadata": {},
     "output_type": "execute_result"
    }
   ],
   "source": [
    "#scipy.stats (Módulo de funções estatísticas)\n",
    "import scipy.stats as stats\n",
    "\n",
    "stats.f_oneway(df['Hba'][df['Grupo'] == 'Gestantes Normais'],\n",
    "               df['Hba'][df['Grupo'] == 'Gestantes com Tolerância Diminuida'],\n",
    "               df['Hba'][df['Grupo'] == 'Gestantes Diabéticas'])"
   ]
  },
  {
   "cell_type": "code",
   "execution_count": 14,
   "metadata": {},
   "outputs": [
    {
     "data": {
      "text/html": [
       "<div>\n",
       "<style scoped>\n",
       "    .dataframe tbody tr th:only-of-type {\n",
       "        vertical-align: middle;\n",
       "    }\n",
       "\n",
       "    .dataframe tbody tr th {\n",
       "        vertical-align: top;\n",
       "    }\n",
       "\n",
       "    .dataframe thead th {\n",
       "        text-align: right;\n",
       "    }\n",
       "</style>\n",
       "<table border=\"1\" class=\"dataframe\">\n",
       "  <thead>\n",
       "    <tr style=\"text-align: right;\">\n",
       "      <th></th>\n",
       "      <th>sum_sq</th>\n",
       "      <th>df</th>\n",
       "      <th>F</th>\n",
       "      <th>PR(&gt;F)</th>\n",
       "    </tr>\n",
       "  </thead>\n",
       "  <tbody>\n",
       "    <tr>\n",
       "      <th>C(Grupo)</th>\n",
       "      <td>23.40306</td>\n",
       "      <td>2.0</td>\n",
       "      <td>19.364025</td>\n",
       "      <td>0.000006</td>\n",
       "    </tr>\n",
       "    <tr>\n",
       "      <th>Residual</th>\n",
       "      <td>16.31589</td>\n",
       "      <td>27.0</td>\n",
       "      <td>NaN</td>\n",
       "      <td>NaN</td>\n",
       "    </tr>\n",
       "  </tbody>\n",
       "</table>\n",
       "</div>"
      ],
      "text/plain": [
       "            sum_sq    df          F    PR(>F)\n",
       "C(Grupo)  23.40306   2.0  19.364025  0.000006\n",
       "Residual  16.31589  27.0        NaN       NaN"
      ]
     },
     "execution_count": 14,
     "metadata": {},
     "output_type": "execute_result"
    }
   ],
   "source": [
    "#statsmodels.api (Módulo que fornece classes e funções para a estimativa de modelos estatísticos)\n",
    "import statsmodels.api as sm\n",
    "from statsmodels.formula.api import ols\n",
    "\n",
    "#Tabela ANOVA\n",
    "model = ols('Hba ~ C(Grupo)', data=df).fit()\n",
    "aov_table = sm.stats.anova_lm(model, typ=2)\n",
    "aov_table\n",
    "\n",
    "#Nota: C (grupo) = entre as amostras e residuos = dentro das amostras"
   ]
  },
  {
   "cell_type": "code",
   "execution_count": 15,
   "metadata": {},
   "outputs": [
    {
     "data": {
      "text/html": [
       "<div>\n",
       "<style scoped>\n",
       "    .dataframe tbody tr th:only-of-type {\n",
       "        vertical-align: middle;\n",
       "    }\n",
       "\n",
       "    .dataframe tbody tr th {\n",
       "        vertical-align: top;\n",
       "    }\n",
       "\n",
       "    .dataframe thead th {\n",
       "        text-align: right;\n",
       "    }\n",
       "</style>\n",
       "<table border=\"1\" class=\"dataframe\">\n",
       "  <thead>\n",
       "    <tr style=\"text-align: right;\">\n",
       "      <th></th>\n",
       "      <th>sum_sq</th>\n",
       "      <th>df</th>\n",
       "      <th>mean_sq</th>\n",
       "      <th>F</th>\n",
       "      <th>PR(&gt;F)</th>\n",
       "      <th>eta_sq</th>\n",
       "      <th>omega_sq</th>\n",
       "    </tr>\n",
       "  </thead>\n",
       "  <tbody>\n",
       "    <tr>\n",
       "      <th>C(Grupo)</th>\n",
       "      <td>23.40306</td>\n",
       "      <td>2.0</td>\n",
       "      <td>11.701530</td>\n",
       "      <td>19.364025</td>\n",
       "      <td>0.000006</td>\n",
       "      <td>0.589216</td>\n",
       "      <td>0.550414</td>\n",
       "    </tr>\n",
       "    <tr>\n",
       "      <th>Residual</th>\n",
       "      <td>16.31589</td>\n",
       "      <td>27.0</td>\n",
       "      <td>0.604292</td>\n",
       "      <td>NaN</td>\n",
       "      <td>NaN</td>\n",
       "      <td>NaN</td>\n",
       "      <td>NaN</td>\n",
       "    </tr>\n",
       "  </tbody>\n",
       "</table>\n",
       "</div>"
      ],
      "text/plain": [
       "            sum_sq    df    mean_sq          F    PR(>F)    eta_sq  omega_sq\n",
       "C(Grupo)  23.40306   2.0  11.701530  19.364025  0.000006  0.589216  0.550414\n",
       "Residual  16.31589  27.0   0.604292        NaN       NaN       NaN       NaN"
      ]
     },
     "execution_count": 15,
     "metadata": {},
     "output_type": "execute_result"
    }
   ],
   "source": [
    "#A função abaixo foi criada para os resultados da tabela ANOVA unilateral retornados para a soma dos quadrados do Tipo II\n",
    "def anova_table(aov):\n",
    "    aov['mean_sq'] = aov[:]['sum_sq']/aov[:]['df']\n",
    "    aov['eta_sq'] = aov[:-1]['sum_sq']/sum(aov['sum_sq'])\n",
    "    aov['omega_sq'] = (aov[:-1]['sum_sq']-(aov[:-1]['df']*aov['mean_sq'][-1]))/(sum(aov['sum_sq'])+aov['mean_sq'][-1])\n",
    "    cols = ['sum_sq', 'df', 'mean_sq', 'F', 'PR(>F)', 'eta_sq', 'omega_sq']\n",
    "    aov = aov[cols]\n",
    "    return aov\n",
    "\n",
    "anova_table(aov_table)"
   ]
  },
  {
   "cell_type": "markdown",
   "metadata": {},
   "source": [
    "### Interpretação\n",
    "O objetivo do estudo foi investigar se a HbA consegue separar os três grupos de gestantes. Ou seja, os grupos foram definidos utilizando critérios clínicos bem específicos e deseja-se compará-los com relação à HbA.  \n",
    "A Hba médio geral foi de 8,0 IC95% (7,6; 8,4) com médias de grupo de 9,3 IC95% (8,7; 9,89) para o grupo de Gestantes Diabéticas; 7,36 IC95% (6,8; 7,9) para o grupo de Gestantes Normais; e 7,5 IC95% (6,9; 7,9) para o grupo de Gestantes com Tolerância Diminuida.  \n",
    "Há uma diferença estatisticamente significativa entre os grupos e a Hba ao **nivel de 5% de significância**, F = 19,36, valor de p = 0.000006, efeito geral= 0,55.  \n",
    "Para saber quais grupos diferiram significativamente, testes post-hoc precisam ser realizados. Antes de realizar esse trabalho, as premissas devem ser verificadas primeiro, caso seja necessário fazer alguma modificação no modelo."
   ]
  },
  {
   "cell_type": "markdown",
   "metadata": {},
   "source": [
    "## Verificação de Suposição"
   ]
  },
  {
   "cell_type": "markdown",
   "metadata": {},
   "source": [
    "### INDEPENDÊNCIA\n",
    "Esta suposição é testada quando o estudo é desenhado. O que isso significa é que todos os grupos são mutuamente exclusivos, ou seja, um indivíduo só pode pertencer a um grupo. Além disso, isso significa que os dados não são medidas repetidas (não são coletados ao longo do tempo). Neste exemplo, essa condição foi atendida."
   ]
  },
  {
   "cell_type": "markdown",
   "metadata": {},
   "source": [
    "### NORMALIDADE\n",
    "A suposição de normalidade é testada nos resíduos do modelo ao vir de uma ANOVA ou estrutura de regressão. Um método para testar a suposição de normalidade é o teste de Shapiro-Wilk. Isso pode ser concluído usando o método shapiro() de scipy.stats. Infelizmente, a saída não é rotulada, mas é (estatística de teste W, valor p)."
   ]
  },
  {
   "cell_type": "code",
   "execution_count": 16,
   "metadata": {},
   "outputs": [
    {
     "data": {
      "text/plain": [
       "ShapiroResult(statistic=0.9316665530204773, pvalue=0.05438007786870003)"
      ]
     },
     "execution_count": 16,
     "metadata": {},
     "output_type": "execute_result"
    }
   ],
   "source": [
    "#Teste de Shapiro-Wilk\n",
    "stats.shapiro(model.resid)"
   ]
  },
  {
   "cell_type": "markdown",
   "metadata": {},
   "source": [
    "**O teste não é significativo, W = 0,93 p = 0,054, o que indica que os resíduos estão normalmente distribuídos.**"
   ]
  },
  {
   "cell_type": "markdown",
   "metadata": {},
   "source": [
    "Outra forma de testar a suposição é por meio de uma verificação visual - isso é útil quando a amostra é grande. A razão disso ser verdade é que, à medida que o tamanho da amostra aumenta, a capacidade do teste estatístico de rejeitar a hipótese nula aumenta, ou seja, ele ganha poder para detectar diferenças menores à medida que o tamanho da amostra n aumenta.\n",
    "\n",
    "Um método de verificar visualmente a distribuição é usar um gráfico de probabilidade com ou sem o valor de correlação, para avaliar a correlação dos valores observados com a distribuição teórica em questão - no caso atual seria a distribuição gaussiana (também conhecida como normal). Isso pode ser concluído usando o método probplot() de scipy.stats."
   ]
  },
  {
   "cell_type": "code",
   "execution_count": 17,
   "metadata": {},
   "outputs": [
    {
     "data": {
      "image/png": "[encoded data removed]",
      "text/plain": [
       "<Figure size 432x432 with 1 Axes>"
      ]
     },
     "metadata": {
      "needs_background": "light"
     },
     "output_type": "display_data"
    }
   ],
   "source": [
    "fig = plt.figure(figsize = (6, 6))\n",
    "ax = fig.add_subplot(111)\n",
    "\n",
    "normality_plot, stat = stats.probplot(model.resid, plot = plt, rvalue = True)\n",
    "ax.set_title(\"Probability plot of model residual's\", fontsize = 20)\n",
    "ax.set\n",
    "\n",
    "plt.show()"
   ]
  },
  {
   "cell_type": "markdown",
   "metadata": {},
   "source": [
    "### HOMOGENEIDADE DE VARIÂNCIA\n",
    "A suposição final é que todos os grupos têm variâncias iguais. Um método para testar essa suposição é o teste de Levene de homogeneidade de variâncias. Isso pode ser concluído usando o método levene() de scipy.stats."
   ]
  },
  {
   "cell_type": "code",
   "execution_count": 18,
   "metadata": {},
   "outputs": [
    {
     "data": {
      "text/plain": [
       "LeveneResult(statistic=0.2905937598540962, pvalue=0.7501288054472516)"
      ]
     },
     "execution_count": 18,
     "metadata": {},
     "output_type": "execute_result"
    }
   ],
   "source": [
    "#Teste de Levene\n",
    "stats.levene(df['Hba'][df['Grupo'] == 'Gestantes Normais'],\n",
    "             df['Hba'][df['Grupo'] == 'Gestantes com Tolerância Diminuida'],\n",
    "             df['Hba'][df['Grupo'] == 'Gestantes Diabéticas'])"
   ]
  },
  {
   "cell_type": "markdown",
   "metadata": {},
   "source": [
    "**O teste de Levene de homogeneidade de variâncias não é significativo, o que indica que os grupos apresentam diferença não estatisticamente significativa em sua variância. Novamente, pode valer a pena verificar essa suposição visualmente também.**"
   ]
  },
  {
   "cell_type": "code",
   "execution_count": 19,
   "metadata": {},
   "outputs": [
    {
     "data": {
      "image/png": "[encoded data removed]",
      "text/plain": [
       "<Figure size 720x432 with 1 Axes>"
      ]
     },
     "metadata": {
      "needs_background": "light"
     },
     "output_type": "display_data"
    }
   ],
   "source": [
    "fig = plt.figure(figsize = (10, 6))\n",
    "ax = fig.add_subplot(111)\n",
    "\n",
    "ax.set_title(\" \", fontsize = 20)\n",
    "ax.set\n",
    "\n",
    "data = (df['Hba'][df['Grupo'] == 'Gestantes Normais'],\n",
    "        df['Hba'][df['Grupo'] == 'Gestantes com Tolerância Diminuida'],\n",
    "        df['Hba'][df['Grupo'] == 'Gestantes Diabéticas'])\n",
    "\n",
    "ax.boxplot(data,\n",
    "           labels= ['Gestantes Normais', 'Gestantes com Tolerância Diminuida', 'Gestantes Diabéticas'],\n",
    "           showmeans = True)\n",
    "\n",
    "plt.xlabel(\" \")\n",
    "plt.ylabel(\"Hba\")\n",
    "\n",
    "plt.show()"
   ]
  },
  {
   "cell_type": "markdown",
   "metadata": {},
   "source": [
    "O teste gráfico de homogeneidade de variâncias apóia os resultados do teste estatístico em que os grupos têm variâncias iguais.   \n",
    "\n",
    "Por padrão, os gráficos de caixa mostram a mediana (linha laranja no gráfico acima). O triângulo verde é a média para cada grupo, que foi um argumento adicional que foi passado para o método.  \n",
    "\n",
    "Existem diferentes maneiras de lidar com a heteroscedasticidade (variância desigual) e uma decisão precisa ser tomada. Algumas opções incluem, mas não estão limitadas a, transformar a variável dependente (resultado), podem usar médias aparadas, erros padrão robustos ou usar um teste paramétrico, como o teste t de Welch.  "
   ]
  },
  {
   "cell_type": "markdown",
   "metadata": {},
   "source": [
    "## TESTE POST-HOC\n",
    "Ao conduzir testes post-hoc ou comparações planejadas, permite-se ver quais grupos diferem significativamente entre si; lembre-se de que a ANOVA é um teste abrangente!  \n",
    "Existem algumas abordagens diferentes que podem ser adotadas durante a realização desses testes, as que são implementadas em StatsModels atualmente são:  \n",
    "\n",
    "• Diferença Honestamente Significativa de Tukey (HSD)  \n",
    "• Bonferroni  \n",
    "• Šidák (também conhecido como Dunn-Šidák)"
   ]
  },
  {
   "cell_type": "markdown",
   "metadata": {},
   "source": [
    "### DIFERENÇA HONESTAMENTE SIGNIFICATIVA DE TUKEY (HSD)"
   ]
  },
  {
   "cell_type": "code",
   "execution_count": 20,
   "metadata": {},
   "outputs": [
    {
     "data": {
      "text/html": [
       "<table class=\"simpletable\">\n",
       "<caption>Multiple Comparison of Means - Tukey HSD, FWER=0.05</caption>\n",
       "<tr>\n",
       "         <th>group1</th>                      <th>group2</th>               <th>meandiff</th> <th>p-adj</th>  <th>lower</th>   <th>upper</th>  <th>reject</th>\n",
       "</tr>\n",
       "<tr>\n",
       "  <td>Gestantes Diabéticas</td>          <td>Gestantes Normais</td>          <td>-1.917</td>  <td>0.001</td> <td>-2.7788</td> <td>-1.0552</td>  <td>True</td> \n",
       "</tr>\n",
       "<tr>\n",
       "  <td>Gestantes Diabéticas</td> <td>Gestantes com Tolerância Diminuida</td>  <td>-1.827</td>  <td>0.001</td> <td>-2.6888</td> <td>-0.9652</td>  <td>True</td> \n",
       "</tr>\n",
       "<tr>\n",
       "    <td>Gestantes Normais</td>  <td>Gestantes com Tolerância Diminuida</td>   <td>0.09</td>    <td>0.9</td>  <td>-0.7718</td> <td>0.9518</td>   <td>False</td>\n",
       "</tr>\n",
       "</table>"
      ],
      "text/plain": [
       "<class 'statsmodels.iolib.table.SimpleTable'>"
      ]
     },
     "execution_count": 20,
     "metadata": {},
     "output_type": "execute_result"
    }
   ],
   "source": [
    "#Teste de Tukey\n",
    "\n",
    "#statsmodels.stats.multicomp (calcula as comparações de pares com intervalos de confiança TukeyHSD)\n",
    "import statsmodels.stats.multicomp as mc\n",
    "\n",
    "comp = mc.MultiComparison(df['Hba'], df['Grupo'])\n",
    "post_hoc_res = comp.tukeyhsd()\n",
    "post_hoc_res.summary()"
   ]
  },
  {
   "cell_type": "markdown",
   "metadata": {},
   "source": [
    "No topo, as informações de teste da tabela são fornecidas.  \n",
    "\n",
    "**FWER** é a taxa de erro familiar, ou seja, o que está sendo definido e controlado nas  \n",
    "colunas **grupo1** e **grupo2** que são os grupos sendo comparados  \n",
    "**meandiff** é a diferença entre as médias do grupo  \n",
    "**p-adj** é o valor p corrigido que leva em consideração as múltiplas comparações sendo conduzidas  \n",
    "**lower** é a banda inferior do intervalo de confiança. No exemplo atual, o intervalo de confiança no nível de 95%, alfa = 0,05  \n",
    "**upper** é a banda superior do intervalo de confiança. No exemplo atual, o intervalo de confiança no nível de 95%, alfa = 0,05  \n",
    "**reject** é a regra de decisão com base no valor p corrigido  "
   ]
  },
  {
   "cell_type": "code",
   "execution_count": 21,
   "metadata": {},
   "outputs": [
    {
     "name": "stderr",
     "output_type": "stream",
     "text": [
      "C:\\Users\\Amanda\\anaconda3\\lib\\site-packages\\statsmodels\\sandbox\\stats\\multicomp.py:775: UserWarning: FixedFormatter should only be used together with FixedLocator\n",
      "  ax1.set_yticklabels(np.insert(self.groupsunique.astype(str), 0, ''))\n"
     ]
    },
    {
     "data": {
      "image/png": "[encoded data removed]",
      "text/plain": [
       "<Figure size 720x432 with 1 Axes>"
      ]
     },
     "metadata": {
      "needs_background": "light"
     },
     "output_type": "display_data"
    }
   ],
   "source": [
    "#É possível traçar a diferença usando este método também!\n",
    "x = post_hoc_res.plot_simultaneous(ylabel = \"Grupos\", xlabel = \"Score Difference\")"
   ]
  },
  {
   "cell_type": "markdown",
   "metadata": {},
   "source": [
    "Usar Tukey HSD para testar as diferenças entre os grupos indica que há uma diferença estatisticamente significativa no escore da Hba entre Gestantes Diabéticas e Gestantes Normais, e entre Gestantes Diabéticas e Gestantes com Tolerância Diminuida."
   ]
  },
  {
   "cell_type": "markdown",
   "metadata": {},
   "source": [
    "### CORREÇÃO DE BONFERRONI\n",
    "O método retorna 3 objetos, um é um objeto de tabela completo, o segundo são os dados da tabela e o terceiro são os dados da tabela com os títulos da tabela - não é entendido por que os desenvolvedores do StatsModels fizeram isso. Tudo o que é necessário é o primeiro objeto.  \n",
    "\n",
    "A documentação mostra que é necessário fornecer a este método um método de teste estatístico, que pode ser uma função definida pelo usuário ou uma função de outra biblioteca Python - neste caso, serão realizados testes t de amostra independentes. Também é necessário definir o método de correção a ser aplicado ao valor p para ajustar para as comparações múltiplas ocorrendo.  \n",
    "\n",
    "*allpairtest(statistical_test_method, method = \"correction_method\")*"
   ]
  },
  {
   "cell_type": "code",
   "execution_count": 22,
   "metadata": {},
   "outputs": [
    {
     "data": {
      "text/html": [
       "<table class=\"simpletable\">\n",
       "<caption>Test Multiple Comparison ttest_ind \n",
       "FWER=0.05 method=bonf\n",
       "alphacSidak=0.02, alphacBonf=0.017</caption>\n",
       "<tr>\n",
       "         <th>group1</th>                      <th>group2</th>                <th>stat</th>    <th>pval</th>  <th>pval_corr</th> <th>reject</th>\n",
       "</tr>\n",
       "<tr>\n",
       "  <td>Gestantes Diabéticas</td>          <td>Gestantes Normais</td>         <td>5.3231</td>    <td>0.0</td>   <td>0.0001</td>    <td>True</td> \n",
       "</tr>\n",
       "<tr>\n",
       "  <td>Gestantes Diabéticas</td> <td>Gestantes com Tolerância Diminuida</td> <td>5.5194</td>    <td>0.0</td>   <td>0.0001</td>    <td>True</td> \n",
       "</tr>\n",
       "<tr>\n",
       "    <td>Gestantes Normais</td>  <td>Gestantes com Tolerância Diminuida</td> <td>-0.2563</td> <td>0.8006</td>    <td>1.0</td>     <td>False</td>\n",
       "</tr>\n",
       "</table>"
      ],
      "text/plain": [
       "<class 'statsmodels.iolib.table.SimpleTable'>"
      ]
     },
     "execution_count": 22,
     "metadata": {},
     "output_type": "execute_result"
    }
   ],
   "source": [
    "comp = mc.MultiComparison(df['Hba'], df['Grupo'])\n",
    "tbl, a1, a2 = comp.allpairtest(stats.ttest_ind, method= \"bonf\")\n",
    "\n",
    "tbl"
   ]
  },
  {
   "cell_type": "markdown",
   "metadata": {},
   "source": [
    "No topo, as informações de teste da tabela são fornecidas  \n",
    "\n",
    "**FWER** é a taxa de erro familiar, ou seja, o que está sendo definido e controlado em  \n",
    "**method** é o método de correção que está sendo aplicado aos valores p  \n",
    "\n",
    "Depois, há o valor p ajustado (ajustado ) para os métodos de correção Sidak e Bonferroni  \n",
    "as colunas **grupo1** e **grupo2** são os grupos sendo comparados  \n",
    "**stat** é o valor da estatística de teste; neste caso, seria a estatística t  \n",
    "**pval** é o valor p não corrigido retornado do **\"método_teste_estatístico\"** fornecido  \n",
    "**pval_corr** é o valor p corrigido que foi corrigido usando qualquer \"método de correção\" fornecido  \n",
    "**reject** é a regra de decisão com base no valor p corrigido  \n",
    "\n",
    "A realização de comparações usando a correção de Bonferroni indica que os únicos grupos que diferiram significativamente são das Gestantes Diabéticas e Gestantes Normais, e entre as Gestantes Diabéticas e Gestantes com Tolerância Diminuida."
   ]
  },
  {
   "cell_type": "markdown",
   "metadata": {},
   "source": [
    "### CORREÇÃO ŠIDÁK (TAMBÉM CONHECIDA COMO CORREÇÃO DUNN-ŠIDÁK)"
   ]
  },
  {
   "cell_type": "code",
   "execution_count": 23,
   "metadata": {},
   "outputs": [
    {
     "data": {
      "text/html": [
       "<table class=\"simpletable\">\n",
       "<caption>Test Multiple Comparison ttest_ind \n",
       "FWER=0.05 method=sidak\n",
       "alphacSidak=0.02, alphacBonf=0.017</caption>\n",
       "<tr>\n",
       "         <th>group1</th>                      <th>group2</th>                <th>stat</th>    <th>pval</th>  <th>pval_corr</th> <th>reject</th>\n",
       "</tr>\n",
       "<tr>\n",
       "  <td>Gestantes Diabéticas</td>          <td>Gestantes Normais</td>         <td>5.3231</td>    <td>0.0</td>   <td>0.0001</td>    <td>True</td> \n",
       "</tr>\n",
       "<tr>\n",
       "  <td>Gestantes Diabéticas</td> <td>Gestantes com Tolerância Diminuida</td> <td>5.5194</td>    <td>0.0</td>   <td>0.0001</td>    <td>True</td> \n",
       "</tr>\n",
       "<tr>\n",
       "    <td>Gestantes Normais</td>  <td>Gestantes com Tolerância Diminuida</td> <td>-0.2563</td> <td>0.8006</td>  <td>0.9921</td>    <td>False</td>\n",
       "</tr>\n",
       "</table>"
      ],
      "text/plain": [
       "<class 'statsmodels.iolib.table.SimpleTable'>"
      ]
     },
     "execution_count": 23,
     "metadata": {},
     "output_type": "execute_result"
    }
   ],
   "source": [
    "comp = mc.MultiComparison(df['Hba'], df['Grupo'])\n",
    "tbl, a1, a2 = comp.allpairtest(stats.ttest_ind, method= \"sidak\")\n",
    "\n",
    "tbl"
   ]
  },
  {
   "cell_type": "markdown",
   "metadata": {},
   "source": [
    "No topo, as informações de teste da tabela são fornecidas  \n",
    "\n",
    "**FWER** é a taxa de erro familiar, ou seja, o que está sendo definido e controlado em  \n",
    "**method** é o método de correção que está sendo aplicado aos valores p  \n",
    "\n",
    "Depois, há o valor p ajustado (ajustado ) para os métodos de correção Sidak e Bonferroni  \n",
    "as colunas **grupo1** e **grupo2** são os grupos sendo comparados  \n",
    "**stat** é o valor da estatística de teste; neste caso, seria a estatística t  \n",
    "**pval** é o valor p não corrigido retornado do **\"método_teste_estatístico\"** fornecido  \n",
    "**pval_corr** é o valor p corrigido que foi corrigido usando qualquer \"método de correção\" fornecido  \n",
    "**reject** é a regra de decisão com base no valor p corrigido  \n",
    "\n",
    "A realização de comparações usando a correção de Šidák indica que os únicos grupos que diferiram significativamente são das Gestantes Diabéticas e Gestantes Normais, e entre as Gestantes Diabéticas e Gestantes com Tolerância Diminuida."
   ]
  },
  {
   "cell_type": "markdown",
   "metadata": {},
   "source": [
    "___"
   ]
  },
  {
   "cell_type": "markdown",
   "metadata": {},
   "source": [
    "## REFERÊNCIAS  \n",
    "\n",
    "https://www.pythonfordatascience.org/anova-python/  \n",
    "Kutner, M. H., Nachtsheim, C. J., Neter, J., and Li, W. (2004). Applied linear statistical models (5th). New York, NY: McGraw-Hill Irwin.  \n",
    "Rosner, B. (2015). Fundamentals of Biostatistics (8th). Boston, MA: Cengage Learning.  \n",
    "Ott, R. L., and Longnecker, M. (2010). An introduction to statistical methods and data analysis. Belmon, CA: Brooks/Cole.  "
   ]
  }
 ],
 "metadata": {
  "kernelspec": {
   "display_name": "Python 3",
   "language": "python",
   "name": "python3"
  },
  "language_info": {
   "codemirror_mode": {
    "name": "ipython",
    "version": 3
   },
   "file_extension": ".py",
   "mimetype": "text/x-python",
   "name": "python",
   "nbconvert_exporter": "python",
   "pygments_lexer": "ipython3",
   "version": "3.8.5"
  }
 },
 "nbformat": 4,
 "nbformat_minor": 4
}
